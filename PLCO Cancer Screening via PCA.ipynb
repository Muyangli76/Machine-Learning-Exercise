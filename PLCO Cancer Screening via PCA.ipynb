{
 "cells": [
  {
   "cell_type": "markdown",
   "id": "b25fc81e",
   "metadata": {},
   "source": [
    "# PLCO Cancer Screening via PCA"
   ]
  },
  {
   "cell_type": "markdown",
   "id": "55107010",
   "metadata": {},
   "source": [
    "## Project Description"
   ]
  },
  {
   "cell_type": "markdown",
   "id": "9fab8bea",
   "metadata": {},
   "source": [
    "The Prostate, Lung, Colorectal, and Ovarian (PLCO) Cancer Screening Trial is a large randomized trial designed and sponsored by the National Cancer Institute (NCI) to determine the chance of getting PLCO cancer. The screening component of the trial was completed in 2006. Participants are being followed and additional data will be collected through 2015. In this assignment, you work on a subset of the dataset, for 216 patients, labeled as ('C') cancer and ('N') No cancer, with 4000 features (info related to gene, blood, etc.)\n",
    "\n",
    "- Part A\n",
    "\n",
    "Do a PCA and find the first two Principal Components (PC1 and PC2). Plot PC1-PC2 for these 216 patients.\n",
    "\n",
    "- Part B\n",
    "\n",
    "Check how much information will preserve if we only use the first 10 principal components (in other words, calculate the percentage of information we describe if instead of using all 4000 variables, we use the first 10 PCs).\n",
    "\n",
    "* Keep in mind, the EigenValues are not in order of Large to Small, so you must sort them, and their corresponding EigenVectors. See the Example, under Lecture PCA, and the way I sort them. \n",
    "\n",
    "- Part C\n",
    "\n",
    "Build an ANN classifier for this dataset with these new 10 variables (the first 10 PCs), and evaluate your model accuracy."
   ]
  },
  {
   "cell_type": "markdown",
   "id": "023bc35d",
   "metadata": {},
   "source": [
    "## Importing the Libraries"
   ]
  },
  {
   "cell_type": "code",
   "execution_count": 175,
   "id": "8f600a18",
   "metadata": {},
   "outputs": [],
   "source": [
    "import numpy as np\n",
    "import pandas as pd\n",
    "import matplotlib.pyplot as plt\n",
    "import tensorflow as tf\n",
    "import time"
   ]
  },
  {
   "cell_type": "markdown",
   "id": "35861ec4",
   "metadata": {},
   "source": [
    "## Data processing"
   ]
  },
  {
   "cell_type": "markdown",
   "id": "499c16ce",
   "metadata": {},
   "source": [
    "### Importing the Dataset"
   ]
  },
  {
   "cell_type": "code",
   "execution_count": 176,
   "id": "5bf155d9",
   "metadata": {},
   "outputs": [],
   "source": [
    "dataset = pd.read_csv('Cancer.csv',header=None)\n",
    "X = dataset.iloc[:, :-1].values\n",
    "y = dataset.iloc[:, -1].values"
   ]
  },
  {
   "cell_type": "code",
   "execution_count": 177,
   "id": "f3d6d23a",
   "metadata": {
    "scrolled": true
   },
   "outputs": [
    {
     "data": {
      "text/html": [
       "<div>\n",
       "<style scoped>\n",
       "    .dataframe tbody tr th:only-of-type {\n",
       "        vertical-align: middle;\n",
       "    }\n",
       "\n",
       "    .dataframe tbody tr th {\n",
       "        vertical-align: top;\n",
       "    }\n",
       "\n",
       "    .dataframe thead th {\n",
       "        text-align: right;\n",
       "    }\n",
       "</style>\n",
       "<table border=\"1\" class=\"dataframe\">\n",
       "  <thead>\n",
       "    <tr style=\"text-align: right;\">\n",
       "      <th></th>\n",
       "      <th>0</th>\n",
       "      <th>1</th>\n",
       "      <th>2</th>\n",
       "      <th>3</th>\n",
       "      <th>4</th>\n",
       "      <th>5</th>\n",
       "      <th>6</th>\n",
       "      <th>7</th>\n",
       "      <th>8</th>\n",
       "      <th>9</th>\n",
       "      <th>...</th>\n",
       "      <th>3991</th>\n",
       "      <th>3992</th>\n",
       "      <th>3993</th>\n",
       "      <th>3994</th>\n",
       "      <th>3995</th>\n",
       "      <th>3996</th>\n",
       "      <th>3997</th>\n",
       "      <th>3998</th>\n",
       "      <th>3999</th>\n",
       "      <th>4000</th>\n",
       "    </tr>\n",
       "  </thead>\n",
       "  <tbody>\n",
       "    <tr>\n",
       "      <th>0</th>\n",
       "      <td>0.063915</td>\n",
       "      <td>0.033242</td>\n",
       "      <td>0.018484</td>\n",
       "      <td>0.008618</td>\n",
       "      <td>0.035629</td>\n",
       "      <td>0.037925</td>\n",
       "      <td>0.028865</td>\n",
       "      <td>0.061731</td>\n",
       "      <td>0.063100</td>\n",
       "      <td>0.024787</td>\n",
       "      <td>...</td>\n",
       "      <td>0.021515</td>\n",
       "      <td>0.017385</td>\n",
       "      <td>0.018564</td>\n",
       "      <td>0.010027</td>\n",
       "      <td>0.012907</td>\n",
       "      <td>0.023405</td>\n",
       "      <td>0.038839</td>\n",
       "      <td>0.038151</td>\n",
       "      <td>0.032085</td>\n",
       "      <td>C</td>\n",
       "    </tr>\n",
       "    <tr>\n",
       "      <th>1</th>\n",
       "      <td>0.025409</td>\n",
       "      <td>0.051085</td>\n",
       "      <td>0.056305</td>\n",
       "      <td>0.021738</td>\n",
       "      <td>0.027410</td>\n",
       "      <td>0.014914</td>\n",
       "      <td>0.022455</td>\n",
       "      <td>0.023957</td>\n",
       "      <td>0.060527</td>\n",
       "      <td>0.047382</td>\n",
       "      <td>...</td>\n",
       "      <td>0.055033</td>\n",
       "      <td>0.080864</td>\n",
       "      <td>0.053423</td>\n",
       "      <td>0.051942</td>\n",
       "      <td>0.013187</td>\n",
       "      <td>0.028573</td>\n",
       "      <td>0.020427</td>\n",
       "      <td>0.023261</td>\n",
       "      <td>0.019975</td>\n",
       "      <td>C</td>\n",
       "    </tr>\n",
       "    <tr>\n",
       "      <th>2</th>\n",
       "      <td>0.025536</td>\n",
       "      <td>0.036123</td>\n",
       "      <td>0.054195</td>\n",
       "      <td>0.009735</td>\n",
       "      <td>0.027521</td>\n",
       "      <td>0.052255</td>\n",
       "      <td>0.042812</td>\n",
       "      <td>0.069087</td>\n",
       "      <td>0.069873</td>\n",
       "      <td>0.066629</td>\n",
       "      <td>...</td>\n",
       "      <td>0.033783</td>\n",
       "      <td>0.029022</td>\n",
       "      <td>0.046397</td>\n",
       "      <td>0.033288</td>\n",
       "      <td>0.041889</td>\n",
       "      <td>0.019256</td>\n",
       "      <td>-0.009447</td>\n",
       "      <td>0.021481</td>\n",
       "      <td>0.025569</td>\n",
       "      <td>C</td>\n",
       "    </tr>\n",
       "    <tr>\n",
       "      <th>3</th>\n",
       "      <td>0.012817</td>\n",
       "      <td>0.029652</td>\n",
       "      <td>0.079290</td>\n",
       "      <td>0.050677</td>\n",
       "      <td>0.039737</td>\n",
       "      <td>0.057713</td>\n",
       "      <td>0.044492</td>\n",
       "      <td>0.034581</td>\n",
       "      <td>0.042587</td>\n",
       "      <td>0.034147</td>\n",
       "      <td>...</td>\n",
       "      <td>0.036083</td>\n",
       "      <td>0.038598</td>\n",
       "      <td>0.048881</td>\n",
       "      <td>0.025569</td>\n",
       "      <td>0.026710</td>\n",
       "      <td>0.025122</td>\n",
       "      <td>0.047466</td>\n",
       "      <td>0.046706</td>\n",
       "      <td>0.043482</td>\n",
       "      <td>C</td>\n",
       "    </tr>\n",
       "    <tr>\n",
       "      <th>4</th>\n",
       "      <td>0.019846</td>\n",
       "      <td>-0.010577</td>\n",
       "      <td>-0.007504</td>\n",
       "      <td>0.019042</td>\n",
       "      <td>0.068786</td>\n",
       "      <td>0.061764</td>\n",
       "      <td>0.039036</td>\n",
       "      <td>0.020445</td>\n",
       "      <td>0.025988</td>\n",
       "      <td>0.066716</td>\n",
       "      <td>...</td>\n",
       "      <td>0.032044</td>\n",
       "      <td>0.026320</td>\n",
       "      <td>0.072016</td>\n",
       "      <td>0.070145</td>\n",
       "      <td>0.055744</td>\n",
       "      <td>0.051084</td>\n",
       "      <td>0.036683</td>\n",
       "      <td>0.043729</td>\n",
       "      <td>0.040289</td>\n",
       "      <td>C</td>\n",
       "    </tr>\n",
       "    <tr>\n",
       "      <th>...</th>\n",
       "      <td>...</td>\n",
       "      <td>...</td>\n",
       "      <td>...</td>\n",
       "      <td>...</td>\n",
       "      <td>...</td>\n",
       "      <td>...</td>\n",
       "      <td>...</td>\n",
       "      <td>...</td>\n",
       "      <td>...</td>\n",
       "      <td>...</td>\n",
       "      <td>...</td>\n",
       "      <td>...</td>\n",
       "      <td>...</td>\n",
       "      <td>...</td>\n",
       "      <td>...</td>\n",
       "      <td>...</td>\n",
       "      <td>...</td>\n",
       "      <td>...</td>\n",
       "      <td>...</td>\n",
       "      <td>...</td>\n",
       "      <td>...</td>\n",
       "    </tr>\n",
       "    <tr>\n",
       "      <th>211</th>\n",
       "      <td>0.019997</td>\n",
       "      <td>0.002927</td>\n",
       "      <td>0.006809</td>\n",
       "      <td>-0.003585</td>\n",
       "      <td>0.026362</td>\n",
       "      <td>0.026540</td>\n",
       "      <td>0.026112</td>\n",
       "      <td>0.026230</td>\n",
       "      <td>0.021676</td>\n",
       "      <td>0.024205</td>\n",
       "      <td>...</td>\n",
       "      <td>0.018509</td>\n",
       "      <td>0.013225</td>\n",
       "      <td>0.015765</td>\n",
       "      <td>0.018762</td>\n",
       "      <td>0.012212</td>\n",
       "      <td>0.009340</td>\n",
       "      <td>0.020955</td>\n",
       "      <td>0.010685</td>\n",
       "      <td>0.013423</td>\n",
       "      <td>N</td>\n",
       "    </tr>\n",
       "    <tr>\n",
       "      <th>212</th>\n",
       "      <td>0.042346</td>\n",
       "      <td>0.031884</td>\n",
       "      <td>0.049617</td>\n",
       "      <td>0.031419</td>\n",
       "      <td>0.042043</td>\n",
       "      <td>0.033383</td>\n",
       "      <td>0.054695</td>\n",
       "      <td>0.079029</td>\n",
       "      <td>0.063147</td>\n",
       "      <td>0.040817</td>\n",
       "      <td>...</td>\n",
       "      <td>0.019066</td>\n",
       "      <td>0.038845</td>\n",
       "      <td>0.035201</td>\n",
       "      <td>0.013012</td>\n",
       "      <td>0.032180</td>\n",
       "      <td>0.026465</td>\n",
       "      <td>0.017850</td>\n",
       "      <td>0.036014</td>\n",
       "      <td>0.018276</td>\n",
       "      <td>N</td>\n",
       "    </tr>\n",
       "    <tr>\n",
       "      <th>213</th>\n",
       "      <td>0.023558</td>\n",
       "      <td>0.021331</td>\n",
       "      <td>0.016210</td>\n",
       "      <td>0.012324</td>\n",
       "      <td>0.022074</td>\n",
       "      <td>0.029829</td>\n",
       "      <td>0.032624</td>\n",
       "      <td>0.022100</td>\n",
       "      <td>0.028950</td>\n",
       "      <td>0.037769</td>\n",
       "      <td>...</td>\n",
       "      <td>0.031909</td>\n",
       "      <td>0.019024</td>\n",
       "      <td>0.024298</td>\n",
       "      <td>0.032061</td>\n",
       "      <td>0.009901</td>\n",
       "      <td>0.011709</td>\n",
       "      <td>0.008274</td>\n",
       "      <td>0.004742</td>\n",
       "      <td>0.024756</td>\n",
       "      <td>N</td>\n",
       "    </tr>\n",
       "    <tr>\n",
       "      <th>214</th>\n",
       "      <td>0.028351</td>\n",
       "      <td>0.023266</td>\n",
       "      <td>0.004556</td>\n",
       "      <td>0.024095</td>\n",
       "      <td>0.018943</td>\n",
       "      <td>0.025935</td>\n",
       "      <td>0.019066</td>\n",
       "      <td>0.037213</td>\n",
       "      <td>0.041892</td>\n",
       "      <td>0.031092</td>\n",
       "      <td>...</td>\n",
       "      <td>0.012613</td>\n",
       "      <td>0.031370</td>\n",
       "      <td>0.030285</td>\n",
       "      <td>0.034522</td>\n",
       "      <td>0.024089</td>\n",
       "      <td>0.006737</td>\n",
       "      <td>0.010033</td>\n",
       "      <td>0.017391</td>\n",
       "      <td>0.031537</td>\n",
       "      <td>N</td>\n",
       "    </tr>\n",
       "    <tr>\n",
       "      <th>215</th>\n",
       "      <td>0.027428</td>\n",
       "      <td>0.027021</td>\n",
       "      <td>0.015273</td>\n",
       "      <td>0.026199</td>\n",
       "      <td>0.018178</td>\n",
       "      <td>0.022988</td>\n",
       "      <td>0.021955</td>\n",
       "      <td>0.044174</td>\n",
       "      <td>0.034616</td>\n",
       "      <td>0.030664</td>\n",
       "      <td>...</td>\n",
       "      <td>0.040424</td>\n",
       "      <td>0.011187</td>\n",
       "      <td>0.007513</td>\n",
       "      <td>0.020666</td>\n",
       "      <td>0.040298</td>\n",
       "      <td>0.021256</td>\n",
       "      <td>0.026642</td>\n",
       "      <td>0.027718</td>\n",
       "      <td>0.040418</td>\n",
       "      <td>N</td>\n",
       "    </tr>\n",
       "  </tbody>\n",
       "</table>\n",
       "<p>216 rows × 4001 columns</p>\n",
       "</div>"
      ],
      "text/plain": [
       "         0         1         2         3         4         5         6     \\\n",
       "0    0.063915  0.033242  0.018484  0.008618  0.035629  0.037925  0.028865   \n",
       "1    0.025409  0.051085  0.056305  0.021738  0.027410  0.014914  0.022455   \n",
       "2    0.025536  0.036123  0.054195  0.009735  0.027521  0.052255  0.042812   \n",
       "3    0.012817  0.029652  0.079290  0.050677  0.039737  0.057713  0.044492   \n",
       "4    0.019846 -0.010577 -0.007504  0.019042  0.068786  0.061764  0.039036   \n",
       "..        ...       ...       ...       ...       ...       ...       ...   \n",
       "211  0.019997  0.002927  0.006809 -0.003585  0.026362  0.026540  0.026112   \n",
       "212  0.042346  0.031884  0.049617  0.031419  0.042043  0.033383  0.054695   \n",
       "213  0.023558  0.021331  0.016210  0.012324  0.022074  0.029829  0.032624   \n",
       "214  0.028351  0.023266  0.004556  0.024095  0.018943  0.025935  0.019066   \n",
       "215  0.027428  0.027021  0.015273  0.026199  0.018178  0.022988  0.021955   \n",
       "\n",
       "         7         8         9     ...      3991      3992      3993  \\\n",
       "0    0.061731  0.063100  0.024787  ...  0.021515  0.017385  0.018564   \n",
       "1    0.023957  0.060527  0.047382  ...  0.055033  0.080864  0.053423   \n",
       "2    0.069087  0.069873  0.066629  ...  0.033783  0.029022  0.046397   \n",
       "3    0.034581  0.042587  0.034147  ...  0.036083  0.038598  0.048881   \n",
       "4    0.020445  0.025988  0.066716  ...  0.032044  0.026320  0.072016   \n",
       "..        ...       ...       ...  ...       ...       ...       ...   \n",
       "211  0.026230  0.021676  0.024205  ...  0.018509  0.013225  0.015765   \n",
       "212  0.079029  0.063147  0.040817  ...  0.019066  0.038845  0.035201   \n",
       "213  0.022100  0.028950  0.037769  ...  0.031909  0.019024  0.024298   \n",
       "214  0.037213  0.041892  0.031092  ...  0.012613  0.031370  0.030285   \n",
       "215  0.044174  0.034616  0.030664  ...  0.040424  0.011187  0.007513   \n",
       "\n",
       "         3994      3995      3996      3997      3998      3999  4000  \n",
       "0    0.010027  0.012907  0.023405  0.038839  0.038151  0.032085     C  \n",
       "1    0.051942  0.013187  0.028573  0.020427  0.023261  0.019975     C  \n",
       "2    0.033288  0.041889  0.019256 -0.009447  0.021481  0.025569     C  \n",
       "3    0.025569  0.026710  0.025122  0.047466  0.046706  0.043482     C  \n",
       "4    0.070145  0.055744  0.051084  0.036683  0.043729  0.040289     C  \n",
       "..        ...       ...       ...       ...       ...       ...   ...  \n",
       "211  0.018762  0.012212  0.009340  0.020955  0.010685  0.013423     N  \n",
       "212  0.013012  0.032180  0.026465  0.017850  0.036014  0.018276     N  \n",
       "213  0.032061  0.009901  0.011709  0.008274  0.004742  0.024756     N  \n",
       "214  0.034522  0.024089  0.006737  0.010033  0.017391  0.031537     N  \n",
       "215  0.020666  0.040298  0.021256  0.026642  0.027718  0.040418     N  \n",
       "\n",
       "[216 rows x 4001 columns]"
      ]
     },
     "execution_count": 177,
     "metadata": {},
     "output_type": "execute_result"
    }
   ],
   "source": [
    "dataset"
   ]
  },
  {
   "cell_type": "markdown",
   "id": "b2a8744e",
   "metadata": {},
   "source": [
    "### Encoding the output data"
   ]
  },
  {
   "cell_type": "code",
   "execution_count": 178,
   "id": "04b95dc3",
   "metadata": {},
   "outputs": [],
   "source": [
    "from sklearn.preprocessing import LabelEncoder\n",
    "le = LabelEncoder()\n",
    "y = le.fit_transform(y)"
   ]
  },
  {
   "cell_type": "markdown",
   "id": "85296394",
   "metadata": {},
   "source": [
    "# Part A: PCA with SKLearn"
   ]
  },
  {
   "cell_type": "code",
   "execution_count": 179,
   "id": "cc4dc76b",
   "metadata": {},
   "outputs": [],
   "source": [
    "from sklearn.decomposition import PCA\n",
    "PrinCom=PCA(n_components=2) # 2 PCs\n",
    "PrinCom.fit(X)\n",
    "Z=PrinCom.transform(X)"
   ]
  },
  {
   "cell_type": "code",
   "execution_count": 180,
   "id": "22f4ad9d",
   "metadata": {},
   "outputs": [
    {
     "data": {
      "text/html": [
       "<div>\n",
       "<style scoped>\n",
       "    .dataframe tbody tr th:only-of-type {\n",
       "        vertical-align: middle;\n",
       "    }\n",
       "\n",
       "    .dataframe tbody tr th {\n",
       "        vertical-align: top;\n",
       "    }\n",
       "\n",
       "    .dataframe thead th {\n",
       "        text-align: right;\n",
       "    }\n",
       "</style>\n",
       "<table border=\"1\" class=\"dataframe\">\n",
       "  <thead>\n",
       "    <tr style=\"text-align: right;\">\n",
       "      <th></th>\n",
       "      <th>PC1</th>\n",
       "      <th>PC2</th>\n",
       "    </tr>\n",
       "  </thead>\n",
       "  <tbody>\n",
       "    <tr>\n",
       "      <th>0</th>\n",
       "      <td>7.967050</td>\n",
       "      <td>-1.272538</td>\n",
       "    </tr>\n",
       "    <tr>\n",
       "      <th>1</th>\n",
       "      <td>9.232076</td>\n",
       "      <td>0.301563</td>\n",
       "    </tr>\n",
       "    <tr>\n",
       "      <th>2</th>\n",
       "      <td>19.916177</td>\n",
       "      <td>-0.481135</td>\n",
       "    </tr>\n",
       "    <tr>\n",
       "      <th>3</th>\n",
       "      <td>12.532131</td>\n",
       "      <td>-0.771284</td>\n",
       "    </tr>\n",
       "    <tr>\n",
       "      <th>4</th>\n",
       "      <td>29.609009</td>\n",
       "      <td>9.245273</td>\n",
       "    </tr>\n",
       "    <tr>\n",
       "      <th>...</th>\n",
       "      <td>...</td>\n",
       "      <td>...</td>\n",
       "    </tr>\n",
       "    <tr>\n",
       "      <th>211</th>\n",
       "      <td>-9.371847</td>\n",
       "      <td>-4.630907</td>\n",
       "    </tr>\n",
       "    <tr>\n",
       "      <th>212</th>\n",
       "      <td>-2.911468</td>\n",
       "      <td>-1.058665</td>\n",
       "    </tr>\n",
       "    <tr>\n",
       "      <th>213</th>\n",
       "      <td>-0.593858</td>\n",
       "      <td>-5.645191</td>\n",
       "    </tr>\n",
       "    <tr>\n",
       "      <th>214</th>\n",
       "      <td>-3.906437</td>\n",
       "      <td>-6.615193</td>\n",
       "    </tr>\n",
       "    <tr>\n",
       "      <th>215</th>\n",
       "      <td>-0.150276</td>\n",
       "      <td>2.173768</td>\n",
       "    </tr>\n",
       "  </tbody>\n",
       "</table>\n",
       "<p>216 rows × 2 columns</p>\n",
       "</div>"
      ],
      "text/plain": [
       "           PC1       PC2\n",
       "0     7.967050 -1.272538\n",
       "1     9.232076  0.301563\n",
       "2    19.916177 -0.481135\n",
       "3    12.532131 -0.771284\n",
       "4    29.609009  9.245273\n",
       "..         ...       ...\n",
       "211  -9.371847 -4.630907\n",
       "212  -2.911468 -1.058665\n",
       "213  -0.593858 -5.645191\n",
       "214  -3.906437 -6.615193\n",
       "215  -0.150276  2.173768\n",
       "\n",
       "[216 rows x 2 columns]"
      ]
     },
     "execution_count": 180,
     "metadata": {},
     "output_type": "execute_result"
    }
   ],
   "source": [
    "pd.DataFrame(data = Z, columns = ['PC1', 'PC2'])"
   ]
  },
  {
   "cell_type": "code",
   "execution_count": 181,
   "id": "f0f72b11",
   "metadata": {},
   "outputs": [
    {
     "data": {
      "image/png": "[encoded data removed]",
      "text/plain": [
       "<Figure size 432x288 with 1 Axes>"
      ]
     },
     "metadata": {
      "needs_background": "light"
     },
     "output_type": "display_data"
    }
   ],
   "source": [
    "plt.scatter(Z[:,0],Z[:,1],c=y) \n",
    "plt.title(\"Distribution of the data for the 1st and 2nd PCA\")\n",
    "plt.show()"
   ]
  },
  {
   "cell_type": "markdown",
   "id": "3aeb7a2b",
   "metadata": {},
   "source": [
    "This answers Part A: find the first two principal components PC1 and PC2."
   ]
  },
  {
   "cell_type": "markdown",
   "id": "8897356f",
   "metadata": {},
   "source": [
    "# Part B: How much information will preserve using 10 Principal components?"
   ]
  },
  {
   "cell_type": "markdown",
   "id": "44bdab40",
   "metadata": {},
   "source": [
    "## Calculate the contribution of each variable"
   ]
  },
  {
   "cell_type": "markdown",
   "id": "2def03e2",
   "metadata": {},
   "source": [
    "Perform PCA with SKLearn using 10 PCs"
   ]
  },
  {
   "cell_type": "code",
   "execution_count": 182,
   "id": "3e0da64e",
   "metadata": {},
   "outputs": [],
   "source": [
    "from sklearn.decomposition import PCA\n",
    "PrinCom=PCA(n_components=10) # 10 PCs\n",
    "PrinCom.fit(X)\n",
    "Z=PrinCom.transform(X)"
   ]
  },
  {
   "cell_type": "markdown",
   "id": "5efe6d9a",
   "metadata": {},
   "source": [
    "Calculate the percentage of information we describe if instead of using all 4000 variables, we use the first 10 PCs)"
   ]
  },
  {
   "cell_type": "code",
   "execution_count": 183,
   "id": "14555cda",
   "metadata": {
    "scrolled": true
   },
   "outputs": [
    {
     "data": {
      "text/plain": [
       "1.0"
      ]
     },
     "execution_count": 183,
     "metadata": {},
     "output_type": "execute_result"
    }
   ],
   "source": [
    "(e[0]+e[1]+e[2]+e[3]+e[4]+e[5]+e[6]+e[7]+e[8]+e[9])/np.sum(e) "
   ]
  },
  {
   "cell_type": "markdown",
   "id": "002f2b25",
   "metadata": {},
   "source": [
    "This answers Part B of the question, telling that 100%  of information will be preserved if we only use the first 10 principal components."
   ]
  },
  {
   "cell_type": "markdown",
   "id": "96a774c0",
   "metadata": {},
   "source": [
    "## Plot the contribution of each PCs"
   ]
  },
  {
   "cell_type": "code",
   "execution_count": 184,
   "id": "54ec128b",
   "metadata": {},
   "outputs": [],
   "source": [
    "e = []\n",
    "for z in Z.T:\n",
    "  e.append(np.var(z))"
   ]
  },
  {
   "cell_type": "code",
   "execution_count": 185,
   "id": "20e707e0",
   "metadata": {},
   "outputs": [],
   "source": [
    "contributions = []\n",
    "for i in range(Z.shape[1]):\n",
    "  contributions.append(np.sum(e[:i+1]) / np.sum(e))"
   ]
  },
  {
   "cell_type": "code",
   "execution_count": 186,
   "id": "3bdf37bd",
   "metadata": {
    "scrolled": true
   },
   "outputs": [
    {
     "data": {
      "image/png": "[encoded data removed]",
      "text/plain": [
       "<Figure size 720x432 with 1 Axes>"
      ]
     },
     "metadata": {
      "needs_background": "light"
     },
     "output_type": "display_data"
    }
   ],
   "source": [
    "plt.figure(figsize=(10,6))\n",
    "plt.plot(list(range(1, 11)), [i*100 for i in contributions])\n",
    "plt.title(\"Contribution of the PCs to the data\")\n",
    "plt.xlabel(\"Number of PCs\")\n",
    "plt.ylabel(\"Contribution\")\n",
    "plt.grid()\n",
    "plt.xticks(list(range(1,11)))\n",
    "plt.show()"
   ]
  },
  {
   "cell_type": "markdown",
   "id": "71d09751",
   "metadata": {},
   "source": [
    "# Part C: ANN Model"
   ]
  },
  {
   "cell_type": "markdown",
   "id": "b96f74be",
   "metadata": {},
   "source": [
    "The first 10 PCs are taken as input to the model"
   ]
  },
  {
   "cell_type": "code",
   "execution_count": 187,
   "id": "836a078b",
   "metadata": {},
   "outputs": [],
   "source": [
    "inputs= Z[:, 0:10]"
   ]
  },
  {
   "cell_type": "markdown",
   "id": "e0730e48",
   "metadata": {},
   "source": [
    "Splitting the data to the trainingset and testset"
   ]
  },
  {
   "cell_type": "code",
   "execution_count": 188,
   "id": "3b3bb529",
   "metadata": {},
   "outputs": [],
   "source": [
    "from sklearn.model_selection import train_test_split\n",
    "X_train, X_test, y_train, y_test = train_test_split(inputs, y, test_size = 0.2, random_state = 0)"
   ]
  },
  {
   "cell_type": "markdown",
   "id": "407c2592",
   "metadata": {},
   "source": [
    "Feature scaling"
   ]
  },
  {
   "cell_type": "code",
   "execution_count": 189,
   "id": "4d91a55c",
   "metadata": {},
   "outputs": [],
   "source": [
    "from sklearn.preprocessing import StandardScaler\n",
    "sc = StandardScaler()\n",
    "X_train = sc.fit_transform(X_train)\n",
    "X_test = sc.transform(X_test)"
   ]
  },
  {
   "cell_type": "code",
   "execution_count": 190,
   "id": "25bb384f",
   "metadata": {},
   "outputs": [
    {
     "name": "stdout",
     "output_type": "stream",
     "text": [
      "Epoch 1/100\n",
      "6/6 [==============================] - 0s 2ms/step - loss: 0.7860 - accuracy: 0.4884\n",
      "Epoch 2/100\n",
      "6/6 [==============================] - 0s 2ms/step - loss: 0.7475 - accuracy: 0.5058\n",
      "Epoch 3/100\n",
      "6/6 [==============================] - 0s 2ms/step - loss: 0.7207 - accuracy: 0.5465\n",
      "Epoch 4/100\n",
      "6/6 [==============================] - 0s 2ms/step - loss: 0.6918 - accuracy: 0.5581\n",
      "Epoch 5/100\n",
      "6/6 [==============================] - 0s 2ms/step - loss: 0.6712 - accuracy: 0.5698\n",
      "Epoch 6/100\n",
      "6/6 [==============================] - 0s 2ms/step - loss: 0.6513 - accuracy: 0.5988\n",
      "Epoch 7/100\n",
      "6/6 [==============================] - 0s 2ms/step - loss: 0.6348 - accuracy: 0.6279\n",
      "Epoch 8/100\n",
      "6/6 [==============================] - 0s 2ms/step - loss: 0.6200 - accuracy: 0.6744\n",
      "Epoch 9/100\n",
      "6/6 [==============================] - 0s 2ms/step - loss: 0.6064 - accuracy: 0.7267\n",
      "Epoch 10/100\n",
      "6/6 [==============================] - 0s 2ms/step - loss: 0.5934 - accuracy: 0.7384\n",
      "Epoch 11/100\n",
      "6/6 [==============================] - 0s 2ms/step - loss: 0.5810 - accuracy: 0.7674\n",
      "Epoch 12/100\n",
      "6/6 [==============================] - 0s 2ms/step - loss: 0.5683 - accuracy: 0.8081\n",
      "Epoch 13/100\n",
      "6/6 [==============================] - 0s 1ms/step - loss: 0.5551 - accuracy: 0.8081\n",
      "Epoch 14/100\n",
      "6/6 [==============================] - 0s 2ms/step - loss: 0.5424 - accuracy: 0.8372\n",
      "Epoch 15/100\n",
      "6/6 [==============================] - 0s 2ms/step - loss: 0.5292 - accuracy: 0.8547\n",
      "Epoch 16/100\n",
      "6/6 [==============================] - 0s 3ms/step - loss: 0.5156 - accuracy: 0.8605\n",
      "Epoch 17/100\n",
      "6/6 [==============================] - 0s 4ms/step - loss: 0.5015 - accuracy: 0.8663\n",
      "Epoch 18/100\n",
      "6/6 [==============================] - 0s 4ms/step - loss: 0.4871 - accuracy: 0.8663\n",
      "Epoch 19/100\n",
      "6/6 [==============================] - 0s 4ms/step - loss: 0.4726 - accuracy: 0.8721\n",
      "Epoch 20/100\n",
      "6/6 [==============================] - 0s 3ms/step - loss: 0.4572 - accuracy: 0.8953\n",
      "Epoch 21/100\n",
      "6/6 [==============================] - 0s 4ms/step - loss: 0.4416 - accuracy: 0.9012\n",
      "Epoch 22/100\n",
      "6/6 [==============================] - 0s 4ms/step - loss: 0.4262 - accuracy: 0.9012\n",
      "Epoch 23/100\n",
      "6/6 [==============================] - 0s 2ms/step - loss: 0.4087 - accuracy: 0.9012\n",
      "Epoch 24/100\n",
      "6/6 [==============================] - 0s 3ms/step - loss: 0.3922 - accuracy: 0.9012\n",
      "Epoch 25/100\n",
      "6/6 [==============================] - 0s 3ms/step - loss: 0.3750 - accuracy: 0.9070\n",
      "Epoch 26/100\n",
      "6/6 [==============================] - 0s 3ms/step - loss: 0.3583 - accuracy: 0.9186\n",
      "Epoch 27/100\n",
      "6/6 [==============================] - 0s 3ms/step - loss: 0.3419 - accuracy: 0.9186\n",
      "Epoch 28/100\n",
      "6/6 [==============================] - 0s 3ms/step - loss: 0.3248 - accuracy: 0.9244\n",
      "Epoch 29/100\n",
      "6/6 [==============================] - 0s 3ms/step - loss: 0.3088 - accuracy: 0.9360\n",
      "Epoch 30/100\n",
      "6/6 [==============================] - 0s 3ms/step - loss: 0.2929 - accuracy: 0.9360\n",
      "Epoch 31/100\n",
      "6/6 [==============================] - 0s 3ms/step - loss: 0.2776 - accuracy: 0.9419\n",
      "Epoch 32/100\n",
      "6/6 [==============================] - 0s 3ms/step - loss: 0.2628 - accuracy: 0.9477\n",
      "Epoch 33/100\n",
      "6/6 [==============================] - 0s 3ms/step - loss: 0.2491 - accuracy: 0.9477\n",
      "Epoch 34/100\n",
      "6/6 [==============================] - 0s 1ms/step - loss: 0.2354 - accuracy: 0.9477\n",
      "Epoch 35/100\n",
      "6/6 [==============================] - 0s 1ms/step - loss: 0.2230 - accuracy: 0.9419\n",
      "Epoch 36/100\n",
      "6/6 [==============================] - 0s 2ms/step - loss: 0.2113 - accuracy: 0.9419\n",
      "Epoch 37/100\n",
      "6/6 [==============================] - 0s 2ms/step - loss: 0.2002 - accuracy: 0.9419\n",
      "Epoch 38/100\n",
      "6/6 [==============================] - 0s 3ms/step - loss: 0.1896 - accuracy: 0.9593\n",
      "Epoch 39/100\n",
      "6/6 [==============================] - 0s 2ms/step - loss: 0.1796 - accuracy: 0.9651\n",
      "Epoch 40/100\n",
      "6/6 [==============================] - 0s 2ms/step - loss: 0.1708 - accuracy: 0.9651\n",
      "Epoch 41/100\n",
      "6/6 [==============================] - 0s 1ms/step - loss: 0.1633 - accuracy: 0.9651\n",
      "Epoch 42/100\n",
      "6/6 [==============================] - 0s 2ms/step - loss: 0.1555 - accuracy: 0.9651\n",
      "Epoch 43/100\n",
      "6/6 [==============================] - 0s 2ms/step - loss: 0.1489 - accuracy: 0.9651\n",
      "Epoch 44/100\n",
      "6/6 [==============================] - 0s 2ms/step - loss: 0.1432 - accuracy: 0.9651\n",
      "Epoch 45/100\n",
      "6/6 [==============================] - 0s 2ms/step - loss: 0.1369 - accuracy: 0.9651\n",
      "Epoch 46/100\n",
      "6/6 [==============================] - 0s 1ms/step - loss: 0.1319 - accuracy: 0.9651\n",
      "Epoch 47/100\n",
      "6/6 [==============================] - 0s 2ms/step - loss: 0.1268 - accuracy: 0.9651\n",
      "Epoch 48/100\n",
      "6/6 [==============================] - 0s 2ms/step - loss: 0.1221 - accuracy: 0.9651\n",
      "Epoch 49/100\n",
      "6/6 [==============================] - 0s 2ms/step - loss: 0.1183 - accuracy: 0.9651\n",
      "Epoch 50/100\n",
      "6/6 [==============================] - 0s 2ms/step - loss: 0.1140 - accuracy: 0.9709\n",
      "Epoch 51/100\n",
      "6/6 [==============================] - 0s 2ms/step - loss: 0.1103 - accuracy: 0.9709\n",
      "Epoch 52/100\n",
      "6/6 [==============================] - 0s 1ms/step - loss: 0.1062 - accuracy: 0.9709\n",
      "Epoch 53/100\n",
      "6/6 [==============================] - 0s 2ms/step - loss: 0.1029 - accuracy: 0.9709\n",
      "Epoch 54/100\n",
      "6/6 [==============================] - 0s 2ms/step - loss: 0.0996 - accuracy: 0.9709\n",
      "Epoch 55/100\n",
      "6/6 [==============================] - 0s 2ms/step - loss: 0.0967 - accuracy: 0.9709\n",
      "Epoch 56/100\n",
      "6/6 [==============================] - 0s 1ms/step - loss: 0.0938 - accuracy: 0.9709\n",
      "Epoch 57/100\n",
      "6/6 [==============================] - 0s 1ms/step - loss: 0.0906 - accuracy: 0.9709\n",
      "Epoch 58/100\n",
      "6/6 [==============================] - 0s 2ms/step - loss: 0.0878 - accuracy: 0.9709\n",
      "Epoch 59/100\n",
      "6/6 [==============================] - 0s 2ms/step - loss: 0.0856 - accuracy: 0.9709\n",
      "Epoch 60/100\n",
      "6/6 [==============================] - 0s 1ms/step - loss: 0.0829 - accuracy: 0.9709\n",
      "Epoch 61/100\n",
      "6/6 [==============================] - 0s 2ms/step - loss: 0.0809 - accuracy: 0.9767\n",
      "Epoch 62/100\n",
      "6/6 [==============================] - 0s 2ms/step - loss: 0.0784 - accuracy: 0.9767\n",
      "Epoch 63/100\n",
      "6/6 [==============================] - 0s 2ms/step - loss: 0.0762 - accuracy: 0.9709\n",
      "Epoch 64/100\n",
      "6/6 [==============================] - 0s 1ms/step - loss: 0.0744 - accuracy: 0.9709\n",
      "Epoch 65/100\n",
      "6/6 [==============================] - 0s 2ms/step - loss: 0.0725 - accuracy: 0.9709\n",
      "Epoch 66/100\n",
      "6/6 [==============================] - 0s 2ms/step - loss: 0.0705 - accuracy: 0.9709\n",
      "Epoch 67/100\n",
      "6/6 [==============================] - 0s 1ms/step - loss: 0.0689 - accuracy: 0.9709\n",
      "Epoch 68/100\n",
      "6/6 [==============================] - 0s 2ms/step - loss: 0.0671 - accuracy: 0.9767\n",
      "Epoch 69/100\n",
      "6/6 [==============================] - 0s 2ms/step - loss: 0.0657 - accuracy: 0.9767\n",
      "Epoch 70/100\n",
      "6/6 [==============================] - 0s 2ms/step - loss: 0.0641 - accuracy: 0.9767\n",
      "Epoch 71/100\n",
      "6/6 [==============================] - 0s 2ms/step - loss: 0.0627 - accuracy: 0.9767\n",
      "Epoch 72/100\n",
      "6/6 [==============================] - 0s 1ms/step - loss: 0.0614 - accuracy: 0.9767\n",
      "Epoch 73/100\n",
      "6/6 [==============================] - 0s 1ms/step - loss: 0.0597 - accuracy: 0.9826\n",
      "Epoch 74/100\n",
      "6/6 [==============================] - 0s 2ms/step - loss: 0.0584 - accuracy: 0.9826\n",
      "Epoch 75/100\n",
      "6/6 [==============================] - 0s 1ms/step - loss: 0.0577 - accuracy: 0.9826\n",
      "Epoch 76/100\n",
      "6/6 [==============================] - 0s 1ms/step - loss: 0.0561 - accuracy: 0.9884\n",
      "Epoch 77/100\n",
      "6/6 [==============================] - 0s 2ms/step - loss: 0.0549 - accuracy: 0.9826\n",
      "Epoch 78/100\n",
      "6/6 [==============================] - 0s 2ms/step - loss: 0.0538 - accuracy: 0.9826\n",
      "Epoch 79/100\n",
      "6/6 [==============================] - 0s 1ms/step - loss: 0.0525 - accuracy: 0.9826\n",
      "Epoch 80/100\n",
      "6/6 [==============================] - 0s 1ms/step - loss: 0.0518 - accuracy: 0.9826\n",
      "Epoch 81/100\n",
      "6/6 [==============================] - 0s 2ms/step - loss: 0.0508 - accuracy: 0.9826\n",
      "Epoch 82/100\n",
      "6/6 [==============================] - 0s 1ms/step - loss: 0.0495 - accuracy: 0.9884\n",
      "Epoch 83/100\n",
      "6/6 [==============================] - 0s 1ms/step - loss: 0.0489 - accuracy: 0.9884\n",
      "Epoch 84/100\n",
      "6/6 [==============================] - 0s 2ms/step - loss: 0.0476 - accuracy: 0.9942\n",
      "Epoch 85/100\n",
      "6/6 [==============================] - 0s 1ms/step - loss: 0.0475 - accuracy: 0.9942\n",
      "Epoch 86/100\n",
      "6/6 [==============================] - 0s 1ms/step - loss: 0.0460 - accuracy: 0.9942\n",
      "Epoch 87/100\n",
      "6/6 [==============================] - 0s 2ms/step - loss: 0.0450 - accuracy: 0.9942\n",
      "Epoch 88/100\n",
      "6/6 [==============================] - 0s 2ms/step - loss: 0.0446 - accuracy: 0.9942\n",
      "Epoch 89/100\n",
      "6/6 [==============================] - 0s 1ms/step - loss: 0.0437 - accuracy: 0.9942\n",
      "Epoch 90/100\n",
      "6/6 [==============================] - 0s 1ms/step - loss: 0.0430 - accuracy: 0.9942\n",
      "Epoch 91/100\n",
      "6/6 [==============================] - 0s 2ms/step - loss: 0.0421 - accuracy: 0.9942\n",
      "Epoch 92/100\n",
      "6/6 [==============================] - 0s 2ms/step - loss: 0.0416 - accuracy: 0.9942\n",
      "Epoch 93/100\n",
      "6/6 [==============================] - 0s 1ms/step - loss: 0.0408 - accuracy: 0.9942\n",
      "Epoch 94/100\n",
      "6/6 [==============================] - 0s 1ms/step - loss: 0.0403 - accuracy: 0.9942\n",
      "Epoch 95/100\n",
      "6/6 [==============================] - 0s 2ms/step - loss: 0.0397 - accuracy: 0.9942\n",
      "Epoch 96/100\n",
      "6/6 [==============================] - 0s 2ms/step - loss: 0.0391 - accuracy: 0.9942\n",
      "Epoch 97/100\n",
      "6/6 [==============================] - 0s 2ms/step - loss: 0.0386 - accuracy: 0.9942\n",
      "Epoch 98/100\n",
      "6/6 [==============================] - 0s 1ms/step - loss: 0.0379 - accuracy: 0.9942\n",
      "Epoch 99/100\n",
      "6/6 [==============================] - 0s 1ms/step - loss: 0.0373 - accuracy: 0.9942\n",
      "Epoch 100/100\n",
      "6/6 [==============================] - 0s 1ms/step - loss: 0.0370 - accuracy: 0.9942\n"
     ]
    },
    {
     "data": {
      "text/plain": [
       "<keras.callbacks.History at 0x2f6b357ddf0>"
      ]
     },
     "execution_count": 190,
     "metadata": {},
     "output_type": "execute_result"
    }
   ],
   "source": [
    "CancerModel=tf.keras.models.Sequential()\n",
    "CancerModel.add(tf.keras.layers.Dense(10,activation='relu')) # Build the input layer\n",
    "CancerModel.add(tf.keras.layers.Dense(20,activation='relu')) # Build the first hidden layer\n",
    "CancerModel.add(tf.keras.layers.Dense(2,activation='sigmoid')) # Build the output layer\n",
    "CancerModel.compile(optimizer = 'adam', loss = 'sparse_categorical_crossentropy', metrics = ['accuracy'])\n",
    "CancerModel.fit(X_train, y_train, batch_size = 32, epochs = 100)"
   ]
  },
  {
   "cell_type": "markdown",
   "id": "5baaa240",
   "metadata": {},
   "source": [
    "Evaluating the model over the test set"
   ]
  },
  {
   "cell_type": "code",
   "execution_count": 191,
   "id": "cd6e5858",
   "metadata": {
    "scrolled": true
   },
   "outputs": [
    {
     "name": "stdout",
     "output_type": "stream",
     "text": [
      "2/2 [==============================] - 0s 3ms/step - loss: 0.0204 - accuracy: 1.0000\n"
     ]
    },
    {
     "data": {
      "text/plain": [
       "[0.02044021338224411, 1.0]"
      ]
     },
     "execution_count": 191,
     "metadata": {},
     "output_type": "execute_result"
    }
   ],
   "source": [
    "CancerModel.evaluate(X_test,y_test)"
   ]
  },
  {
   "cell_type": "markdown",
   "id": "5097ffd4",
   "metadata": {},
   "source": [
    "## Predicting on the Test Set"
   ]
  },
  {
   "cell_type": "code",
   "execution_count": 192,
   "id": "74ec43bc",
   "metadata": {},
   "outputs": [
    {
     "name": "stdout",
     "output_type": "stream",
     "text": [
      "2/2 [==============================] - 0s 2ms/step\n",
      "[ True False False  True  True False False  True False False False  True\n",
      "  True False False  True  True False  True False  True  True  True  True\n",
      "  True False  True False False False False False  True False  True  True\n",
      " False  True False  True False  True  True False]\n"
     ]
    }
   ],
   "source": [
    "y_pred = CancerModel.predict(X_test)\n",
    "y_pred=np.argmax(y_pred, axis=1) # Solve error message: Classification metrics can't handle a mix of multiclass and multilabel-indicator targets\n",
    "y_pred  = (y_pred > 0.5)\n",
    "print(y_pred)"
   ]
  },
  {
   "cell_type": "markdown",
   "id": "e7c9d51a",
   "metadata": {},
   "source": [
    "## Confusion Matrix & accuracy"
   ]
  },
  {
   "cell_type": "markdown",
   "id": "4fd24c20",
   "metadata": {},
   "source": [
    "### Calculate confusion matrix"
   ]
  },
  {
   "cell_type": "code",
   "execution_count": 193,
   "id": "8514acd1",
   "metadata": {
    "scrolled": true
   },
   "outputs": [
    {
     "name": "stdout",
     "output_type": "stream",
     "text": [
      "[[22  0]\n",
      " [ 0 22]]\n"
     ]
    },
    {
     "data": {
      "text/plain": [
       "1.0"
      ]
     },
     "execution_count": 193,
     "metadata": {},
     "output_type": "execute_result"
    }
   ],
   "source": [
    "from sklearn.metrics import confusion_matrix, accuracy_score\n",
    "y_pred = (y_pred > 0.5) #Classification metrics can't handle a mix of binary and continuous targets, so we change the target (y_pred) to binary, True/False\n",
    "cm = confusion_matrix(y_test, y_pred)\n",
    "print(cm)\n",
    "accuracy_score(y_test, y_pred)"
   ]
  },
  {
   "cell_type": "markdown",
   "id": "de43aac6",
   "metadata": {},
   "source": [
    "#### Plot confusion matrix"
   ]
  },
  {
   "cell_type": "code",
   "execution_count": 194,
   "id": "73a25a3e",
   "metadata": {
    "scrolled": true
   },
   "outputs": [
    {
     "data": {
      "image/png": "[encoded data removed]",
      "text/plain": [
       "<Figure size 576x576 with 1 Axes>"
      ]
     },
     "metadata": {
      "needs_background": "light"
     },
     "output_type": "display_data"
    }
   ],
   "source": [
    "fig, ax = plt.subplots(figsize=(8, 8))\n",
    "ax.imshow(cm)\n",
    "ax.grid(False)\n",
    "ax.xaxis.set(ticks=(0, 1), ticklabels=('Predicted 0s', 'Predicted 1s'))\n",
    "ax.yaxis.set(ticks=(0, 1), ticklabels=('Actual 0s', 'Actual 1s'))\n",
    "ax.set_ylim(1.5, -0.5)\n",
    "for i in range(2):\n",
    "    for j in range(2):\n",
    "        ax.text(j, i, cm[i, j], ha='center', va='center', color='red')\n",
    "plt.show()"
   ]
  },
  {
   "cell_type": "markdown",
   "id": "06023c58",
   "metadata": {},
   "source": [
    "# Try some different classifiers"
   ]
  },
  {
   "cell_type": "code",
   "execution_count": 196,
   "id": "c9da8eb0",
   "metadata": {},
   "outputs": [],
   "source": [
    "from sklearn.metrics import accuracy_score"
   ]
  },
  {
   "cell_type": "markdown",
   "id": "a3bfb415",
   "metadata": {},
   "source": [
    "## KNN "
   ]
  },
  {
   "cell_type": "code",
   "execution_count": 197,
   "id": "128fd174",
   "metadata": {},
   "outputs": [
    {
     "name": "stdout",
     "output_type": "stream",
     "text": [
      "0.9545454545454546\n"
     ]
    }
   ],
   "source": [
    "from sklearn.neighbors import KNeighborsClassifier\n",
    "knn = KNeighborsClassifier(n_neighbors=3) # change n_neighbors; boundary becomes smoother with increasing value of K\n",
    "knn.fit(X_train, y_train)\n",
    "y_pred = knn.predict(X_test)\n",
    "print(accuracy_score(y_test, y_pred))\n",
    "# accuracy = np.sum(y_pred==y_test)/len(y_test)\n",
    "# print(accuracy)"
   ]
  },
  {
   "cell_type": "markdown",
   "id": "7588184f",
   "metadata": {},
   "source": [
    "## SVM"
   ]
  },
  {
   "cell_type": "code",
   "execution_count": 198,
   "id": "5679844a",
   "metadata": {},
   "outputs": [
    {
     "name": "stdout",
     "output_type": "stream",
     "text": [
      "0.9772727272727273\n"
     ]
    }
   ],
   "source": [
    "from sklearn.svm import SVC\n",
    "svmrbf = SVC(kernel='rbf')\n",
    "svmrbf.fit(X_train, y_train)\n",
    "y_pred = svmrbf.predict(X_test)\n",
    "print(accuracy_score(y_test, y_pred))"
   ]
  },
  {
   "cell_type": "markdown",
   "id": "8d4392b6",
   "metadata": {},
   "source": [
    "# Discussion"
   ]
  },
  {
   "cell_type": "markdown",
   "id": "8dfd6f58",
   "metadata": {},
   "source": [
    "In Part A, we performed a Principal Component Analysis to find the first two PCs using SKLearn, and the PC1-PC2 for 216 patients are plotted. </br></br> In Part B, we calculated the first 10 PCs and found their contributin over using all 4000 variables. We found that 100% of information will be preserved if we only use the first 10 principal components.The plot of contribution of PCs vs.Numbvers of PCs is also plotted. </br></br> In Part C, we built an ANN classifier for this dataset with the first 10 PCs. Using evaluate() function, we use the test data to evaluate the already trained model and found that the loss value of the model is 0.02044021338224411, and the metrics value is 1.0.In addition, we have calculated the confusion matrix, and found its accuracy is 1.0, meaning that the ANN model is robust.</br></br>KNN and SVM machine learning models are also built to compare with our ANN model. The accuracy of the trianed KNN model is 0.9545454545454546, and the accuracy of the SVM model is 0.9772727272727273. SVM has the same accuracy as the ANN model, while KNN model shows a slightly lower accuracy."
   ]
  }
 ],
 "metadata": {
  "kernelspec": {
   "display_name": "Python 3 (ipykernel)",
   "language": "python",
   "name": "python3"
  },
  "language_info": {
   "codemirror_mode": {
    "name": "ipython",
    "version": 3
   },
   "file_extension": ".py",
   "mimetype": "text/x-python",
   "name": "python",
   "nbconvert_exporter": "python",
   "pygments_lexer": "ipython3",
   "version": "3.9.15"
  },
  "toc": {
   "base_numbering": 1,
   "nav_menu": {},
   "number_sections": true,
   "sideBar": true,
   "skip_h1_title": false,
   "title_cell": "Table of Contents",
   "title_sidebar": "Contents",
   "toc_cell": false,
   "toc_position": {},
   "toc_section_display": true,
   "toc_window_display": false
  }
 },
 "nbformat": 4,
 "nbformat_minor": 5
}
