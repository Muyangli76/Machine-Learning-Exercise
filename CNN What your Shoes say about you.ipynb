{
 "cells": [
  {
   "cell_type": "markdown",
   "id": "10e73fd6",
   "metadata": {},
   "source": [
    "# CNN: What your Shoes say about you? "
   ]
  },
  {
   "cell_type": "markdown",
   "id": "7bee7a75",
   "metadata": {},
   "source": [
    "## Introduction"
   ]
  },
  {
   "cell_type": "markdown",
   "id": "18f03e86",
   "metadata": {},
   "source": [
    "Scientists claimed that we can predict other people's personalities by looking at the shoes they are wearing. Out of interest, to test the hypothesis, a CNN machine learning model will be built to test if the model can predict my personality correctly. \n",
    "\n",
    "\n",
    "\n",
    "This article: https://www.rd.com/list/shoes-personality/ has provided the theoretial background for this experiement, explaing how the type and shape of shoes are related to various personalities.\n",
    "- Boots:Boots wearers are always looking ahead</br>\n",
    "- FlashyStilettos: Women in flashy stilettos work hard and have excellent taste </br>\n",
    "- Flats: Flats fans are behind-the-scenes leaders </br>\n",
    "- FlipFlops: Flip-flop fans are laid back </br>\n",
    "- Sneakers: Sneaker buffs get along with everyone </br>\n",
    "\n",
    "\n",
    "The goal of this project is to build a machine learning classifier that uses Convolutionry Neural Network (CNN) to classify images of different shoes and identify the personalities accordingly.</br>\n",
    "\n",
    "There are five classes, which are Boots, FlashyStilettos, Flats, FlipFlops, and Sneakers. For the training set, each class contains 224 imgaes. For the test set, there are 64 images for each classes.</br> \n",
    "\n",
    "The training dataset is gathered from the Google Image and the test dataset is selected randomly from the provided Shoes database.\n",
    "\n",
    "\n",
    "Name: Muyang Li </br>\n",
    "Student number:29816741"
   ]
  },
  {
   "cell_type": "markdown",
   "id": "64f0573a",
   "metadata": {},
   "source": [
    "## Importing the Libraries"
   ]
  },
  {
   "cell_type": "code",
   "execution_count": 2,
   "id": "a0e19403",
   "metadata": {},
   "outputs": [],
   "source": [
    "import tensorflow as tf\n",
    "from keras.preprocessing.image import ImageDataGenerator"
   ]
  },
  {
   "cell_type": "markdown",
   "id": "102dcec4",
   "metadata": {},
   "source": [
    "## Data Preprocessing"
   ]
  },
  {
   "cell_type": "markdown",
   "id": "f5dcf20a",
   "metadata": {},
   "source": [
    "### Preprocessing the Training Set"
   ]
  },
  {
   "cell_type": "code",
   "execution_count": 3,
   "id": "41567d79",
   "metadata": {},
   "outputs": [
    {
     "name": "stdout",
     "output_type": "stream",
     "text": [
      "Found 1113 images belonging to 5 classes.\n"
     ]
    }
   ],
   "source": [
    "train_datagen = ImageDataGenerator(rescale = 1./255,\n",
    "                                   shear_range = 0.2,\n",
    "                                   zoom_range = 0.2,\n",
    "                                   horizontal_flip = True)\n",
    "training_set = train_datagen.flow_from_directory('Dataset/Training_Set',\n",
    "                                                 target_size = (64, 64), \n",
    "                                                 batch_size = 32, \n",
    "                                                 class_mode = 'categorical')\n"
   ]
  },
  {
   "cell_type": "markdown",
   "id": "34cbc170",
   "metadata": {},
   "source": [
    "### Preprocessing the Test Set"
   ]
  },
  {
   "cell_type": "code",
   "execution_count": 4,
   "id": "04a8eb1f",
   "metadata": {},
   "outputs": [
    {
     "name": "stdout",
     "output_type": "stream",
     "text": [
      "Found 320 images belonging to 5 classes.\n"
     ]
    }
   ],
   "source": [
    "test_datagen = ImageDataGenerator(rescale = 1./255)\n",
    "test_set = test_datagen.flow_from_directory('Dataset/Test_Set',\n",
    "                                            target_size = (64, 64),\n",
    "                                            batch_size = 32,\n",
    "                                            class_mode = 'categorical')"
   ]
  },
  {
   "cell_type": "markdown",
   "id": "d3516001",
   "metadata": {},
   "source": [
    "## Building the CNN Model"
   ]
  },
  {
   "cell_type": "markdown",
   "id": "b17c2731",
   "metadata": {},
   "source": [
    "### Step 1 - Initialising the Model"
   ]
  },
  {
   "cell_type": "code",
   "execution_count": 5,
   "id": "faf3d291",
   "metadata": {},
   "outputs": [],
   "source": [
    "Model = tf.keras.models.Sequential()"
   ]
  },
  {
   "cell_type": "markdown",
   "id": "e1f32a2a",
   "metadata": {},
   "source": [
    "### Step 2 - Adding First Convolution Layer \n",
    "The number of filters directly affects the accuracy level of the model, increasing it will increase the accuracy. For this model, we will first try a moderate number of filters:10 filters and 3 set of relu."
   ]
  },
  {
   "cell_type": "code",
   "execution_count": 6,
   "id": "f9130897",
   "metadata": {},
   "outputs": [],
   "source": [
    "Model.add(tf.keras.layers.Conv2D(filters=10, kernel_size=3, activation='relu', input_shape=[64, 64, 3])) "
   ]
  },
  {
   "cell_type": "markdown",
   "id": "fb42426b",
   "metadata": {},
   "source": [
    "### Step 3 - Pooling the First Layer"
   ]
  },
  {
   "cell_type": "code",
   "execution_count": 7,
   "id": "8dcc8503",
   "metadata": {},
   "outputs": [],
   "source": [
    "Model.add(tf.keras.layers.MaxPool2D(pool_size=2, strides=2))"
   ]
  },
  {
   "cell_type": "markdown",
   "id": "8eee5c0d",
   "metadata": {},
   "source": [
    "### Step 4 - Adding a Second Convolutional Layer"
   ]
  },
  {
   "cell_type": "code",
   "execution_count": 8,
   "id": "4442b165",
   "metadata": {},
   "outputs": [],
   "source": [
    "Model.add(tf.keras.layers.Conv2D(filters=32, kernel_size=3, activation='relu'))"
   ]
  },
  {
   "cell_type": "markdown",
   "id": "a0c24646",
   "metadata": {},
   "source": [
    "### Step 5 - Pooling the Second Layer"
   ]
  },
  {
   "cell_type": "code",
   "execution_count": 9,
   "id": "117d1b6e",
   "metadata": {},
   "outputs": [],
   "source": [
    "Model.add(tf.keras.layers.MaxPool2D(pool_size=2, strides=2))"
   ]
  },
  {
   "cell_type": "markdown",
   "id": "49289096",
   "metadata": {},
   "source": [
    "### Step 6 - Flattening"
   ]
  },
  {
   "cell_type": "code",
   "execution_count": 10,
   "id": "7b7caf23",
   "metadata": {},
   "outputs": [],
   "source": [
    "Model.add(tf.keras.layers.Flatten())"
   ]
  },
  {
   "cell_type": "markdown",
   "id": "04c7d278",
   "metadata": {},
   "source": [
    "### Step 7 - Full Connection"
   ]
  },
  {
   "cell_type": "code",
   "execution_count": 11,
   "id": "4c357b95",
   "metadata": {},
   "outputs": [],
   "source": [
    "Model.add(tf.keras.layers.Dense(units=128, activation='relu'))\n",
    "# full connnection neural network"
   ]
  },
  {
   "cell_type": "markdown",
   "id": "a708a1ef",
   "metadata": {},
   "source": [
    "### Step 8 - Output Layer\n",
    "For classes greater than two, a softmax activation function is used"
   ]
  },
  {
   "cell_type": "code",
   "execution_count": 12,
   "id": "251a1eea",
   "metadata": {},
   "outputs": [],
   "source": [
    "Model.add(tf.keras.layers.Dense(units=5, activation='softmax'))"
   ]
  },
  {
   "cell_type": "markdown",
   "id": "85ad31fa",
   "metadata": {},
   "source": [
    "### Step 9 - Compiling the CNN\n",
    "In case of N-classes, categorical crossentropy method is used, with nadam optimizer"
   ]
  },
  {
   "cell_type": "code",
   "execution_count": 13,
   "id": "91401a31",
   "metadata": {},
   "outputs": [],
   "source": [
    "Model.compile(loss='categorical_crossentropy', optimizer='nadam',metrics=['accuracy'])"
   ]
  },
  {
   "cell_type": "markdown",
   "id": "aa7d1bb2",
   "metadata": {},
   "source": [
    "## Training the CNN and Evaluation"
   ]
  },
  {
   "cell_type": "markdown",
   "id": "a6595fa6",
   "metadata": {},
   "source": [
    "### Train the CNN model"
   ]
  },
  {
   "cell_type": "code",
   "execution_count": 14,
   "id": "fc926f02",
   "metadata": {},
   "outputs": [
    {
     "name": "stdout",
     "output_type": "stream",
     "text": [
      "Epoch 1/25\n",
      "15/35 [===========>..................] - ETA: 13s - loss: 1.6665 - accuracy: 0.2114"
     ]
    },
    {
     "name": "stderr",
     "output_type": "stream",
     "text": [
      "C:\\Users\\muyan\\anaconda3\\lib\\site-packages\\PIL\\Image.py:945: UserWarning: Palette images with Transparency expressed in bytes should be converted to RGBA images\n",
      "  warnings.warn(\n"
     ]
    },
    {
     "name": "stdout",
     "output_type": "stream",
     "text": [
      "35/35 [==============================] - 31s 872ms/step - loss: 1.6108 - accuracy: 0.2534 - val_loss: 1.5389 - val_accuracy: 0.3625\n",
      "Epoch 2/25\n",
      "35/35 [==============================] - 17s 473ms/step - loss: 1.4733 - accuracy: 0.3612 - val_loss: 1.4548 - val_accuracy: 0.4094\n",
      "Epoch 3/25\n",
      "35/35 [==============================] - 21s 601ms/step - loss: 1.3652 - accuracy: 0.4474 - val_loss: 1.3718 - val_accuracy: 0.4625\n",
      "Epoch 4/25\n",
      "35/35 [==============================] - 22s 610ms/step - loss: 1.2686 - accuracy: 0.4960 - val_loss: 1.6067 - val_accuracy: 0.4344\n",
      "Epoch 5/25\n",
      "35/35 [==============================] - 20s 581ms/step - loss: 1.2127 - accuracy: 0.5175 - val_loss: 1.2833 - val_accuracy: 0.5063\n",
      "Epoch 6/25\n",
      "35/35 [==============================] - 20s 568ms/step - loss: 1.1362 - accuracy: 0.5597 - val_loss: 1.1845 - val_accuracy: 0.5656\n",
      "Epoch 7/25\n",
      "35/35 [==============================] - 16s 455ms/step - loss: 1.0670 - accuracy: 0.5831 - val_loss: 1.1464 - val_accuracy: 0.5594\n",
      "Epoch 8/25\n",
      "35/35 [==============================] - 14s 409ms/step - loss: 0.9989 - accuracy: 0.6262 - val_loss: 1.1070 - val_accuracy: 0.5531\n",
      "Epoch 9/25\n",
      "35/35 [==============================] - 15s 443ms/step - loss: 0.9096 - accuracy: 0.6721 - val_loss: 1.3494 - val_accuracy: 0.4656\n",
      "Epoch 10/25\n",
      "35/35 [==============================] - 16s 464ms/step - loss: 0.8355 - accuracy: 0.6990 - val_loss: 1.2679 - val_accuracy: 0.5594\n",
      "Epoch 11/25\n",
      "35/35 [==============================] - 16s 432ms/step - loss: 0.7498 - accuracy: 0.7260 - val_loss: 1.0220 - val_accuracy: 0.6094\n",
      "Epoch 12/25\n",
      "35/35 [==============================] - 15s 417ms/step - loss: 0.7040 - accuracy: 0.7421 - val_loss: 1.2499 - val_accuracy: 0.5562\n",
      "Epoch 13/25\n",
      "35/35 [==============================] - 14s 399ms/step - loss: 0.6333 - accuracy: 0.7781 - val_loss: 1.1778 - val_accuracy: 0.5719\n",
      "Epoch 14/25\n",
      "35/35 [==============================] - 13s 383ms/step - loss: 0.5781 - accuracy: 0.7942 - val_loss: 0.9707 - val_accuracy: 0.6594\n",
      "Epoch 15/25\n",
      "35/35 [==============================] - 14s 411ms/step - loss: 0.5408 - accuracy: 0.8086 - val_loss: 1.0496 - val_accuracy: 0.6313\n",
      "Epoch 16/25\n",
      "35/35 [==============================] - 13s 383ms/step - loss: 0.4655 - accuracy: 0.8535 - val_loss: 1.6254 - val_accuracy: 0.5500\n",
      "Epoch 17/25\n",
      "35/35 [==============================] - 14s 390ms/step - loss: 0.4582 - accuracy: 0.8455 - val_loss: 1.5579 - val_accuracy: 0.5562\n",
      "Epoch 18/25\n",
      "35/35 [==============================] - 15s 412ms/step - loss: 0.4010 - accuracy: 0.8643 - val_loss: 1.8064 - val_accuracy: 0.5094\n",
      "Epoch 19/25\n",
      "35/35 [==============================] - 14s 396ms/step - loss: 0.3837 - accuracy: 0.8715 - val_loss: 1.2277 - val_accuracy: 0.5906\n",
      "Epoch 20/25\n",
      "35/35 [==============================] - 14s 402ms/step - loss: 0.3405 - accuracy: 0.8868 - val_loss: 1.3672 - val_accuracy: 0.6000\n",
      "Epoch 21/25\n",
      "35/35 [==============================] - 14s 409ms/step - loss: 0.3048 - accuracy: 0.9066 - val_loss: 1.3163 - val_accuracy: 0.5938\n",
      "Epoch 22/25\n",
      "35/35 [==============================] - 15s 414ms/step - loss: 0.2840 - accuracy: 0.9066 - val_loss: 1.4535 - val_accuracy: 0.5813\n",
      "Epoch 23/25\n",
      "35/35 [==============================] - 14s 394ms/step - loss: 0.2672 - accuracy: 0.9164 - val_loss: 1.3963 - val_accuracy: 0.6156\n",
      "Epoch 24/25\n",
      "35/35 [==============================] - 13s 367ms/step - loss: 0.2415 - accuracy: 0.9281 - val_loss: 1.5698 - val_accuracy: 0.5875\n",
      "Epoch 25/25\n",
      "35/35 [==============================] - 14s 402ms/step - loss: 0.1917 - accuracy: 0.9443 - val_loss: 1.8815 - val_accuracy: 0.5656\n",
      "Epoch 1/25\n",
      "35/35 [==============================] - 14s 406ms/step - loss: 0.1971 - accuracy: 0.9416 - val_loss: 1.5291 - val_accuracy: 0.5688\n",
      "Epoch 2/25\n",
      "35/35 [==============================] - 15s 423ms/step - loss: 0.1830 - accuracy: 0.9398 - val_loss: 1.7843 - val_accuracy: 0.5656\n",
      "Epoch 3/25\n",
      "35/35 [==============================] - 14s 392ms/step - loss: 0.1949 - accuracy: 0.9416 - val_loss: 1.4212 - val_accuracy: 0.6313\n",
      "Epoch 4/25\n",
      "35/35 [==============================] - 14s 389ms/step - loss: 0.1986 - accuracy: 0.9443 - val_loss: 2.2202 - val_accuracy: 0.5406\n",
      "Epoch 5/25\n",
      "35/35 [==============================] - 14s 391ms/step - loss: 0.1579 - accuracy: 0.9497 - val_loss: 1.6983 - val_accuracy: 0.5875\n",
      "Epoch 6/25\n",
      "35/35 [==============================] - 13s 384ms/step - loss: 0.1439 - accuracy: 0.9533 - val_loss: 2.0538 - val_accuracy: 0.5969\n",
      "Epoch 7/25\n",
      "35/35 [==============================] - 14s 396ms/step - loss: 0.1663 - accuracy: 0.9569 - val_loss: 1.7676 - val_accuracy: 0.6344\n",
      "Epoch 8/25\n",
      "35/35 [==============================] - 13s 368ms/step - loss: 0.1384 - accuracy: 0.9614 - val_loss: 1.9785 - val_accuracy: 0.5969\n",
      "Epoch 9/25\n",
      "35/35 [==============================] - 15s 428ms/step - loss: 0.1088 - accuracy: 0.9721 - val_loss: 1.6362 - val_accuracy: 0.6656\n",
      "Epoch 10/25\n",
      "35/35 [==============================] - 14s 411ms/step - loss: 0.1582 - accuracy: 0.9533 - val_loss: 1.7403 - val_accuracy: 0.6000\n",
      "Epoch 11/25\n",
      "35/35 [==============================] - 14s 402ms/step - loss: 0.0792 - accuracy: 0.9802 - val_loss: 1.9735 - val_accuracy: 0.5875\n",
      "Epoch 12/25\n",
      "35/35 [==============================] - 15s 431ms/step - loss: 0.1065 - accuracy: 0.9704 - val_loss: 2.2116 - val_accuracy: 0.5969\n",
      "Epoch 13/25\n",
      "35/35 [==============================] - 14s 415ms/step - loss: 0.0910 - accuracy: 0.9748 - val_loss: 2.0088 - val_accuracy: 0.6094\n",
      "Epoch 14/25\n",
      "35/35 [==============================] - 13s 375ms/step - loss: 0.0923 - accuracy: 0.9820 - val_loss: 1.7005 - val_accuracy: 0.6250\n",
      "Epoch 15/25\n",
      "35/35 [==============================] - 14s 399ms/step - loss: 0.0731 - accuracy: 0.9829 - val_loss: 1.6993 - val_accuracy: 0.6406\n",
      "Epoch 16/25\n",
      "35/35 [==============================] - 13s 374ms/step - loss: 0.0787 - accuracy: 0.9820 - val_loss: 1.8706 - val_accuracy: 0.6219\n",
      "Epoch 17/25\n",
      "35/35 [==============================] - 16s 456ms/step - loss: 0.0703 - accuracy: 0.9820 - val_loss: 1.9308 - val_accuracy: 0.6375\n",
      "Epoch 18/25\n",
      "35/35 [==============================] - 14s 376ms/step - loss: 0.0647 - accuracy: 0.9793 - val_loss: 1.6543 - val_accuracy: 0.6469\n",
      "Epoch 19/25\n",
      "35/35 [==============================] - 14s 407ms/step - loss: 0.0741 - accuracy: 0.9838 - val_loss: 1.9908 - val_accuracy: 0.6187\n",
      "Epoch 20/25\n",
      "35/35 [==============================] - 14s 395ms/step - loss: 0.0651 - accuracy: 0.9793 - val_loss: 2.0807 - val_accuracy: 0.6187\n",
      "Epoch 21/25\n",
      "35/35 [==============================] - 14s 409ms/step - loss: 0.0555 - accuracy: 0.9847 - val_loss: 2.3443 - val_accuracy: 0.5906\n",
      "Epoch 22/25\n",
      "35/35 [==============================] - 14s 409ms/step - loss: 0.0722 - accuracy: 0.9820 - val_loss: 2.1912 - val_accuracy: 0.6313\n",
      "Epoch 23/25\n",
      "35/35 [==============================] - 13s 369ms/step - loss: 0.0737 - accuracy: 0.9838 - val_loss: 2.4203 - val_accuracy: 0.5875\n",
      "Epoch 24/25\n",
      "35/35 [==============================] - 15s 422ms/step - loss: 0.0697 - accuracy: 0.9802 - val_loss: 2.3629 - val_accuracy: 0.6187\n",
      "Epoch 25/25\n",
      "35/35 [==============================] - 17s 480ms/step - loss: 0.0883 - accuracy: 0.9748 - val_loss: 1.8537 - val_accuracy: 0.6000\n"
     ]
    }
   ],
   "source": [
    "Model.fit(x = training_set, validation_data = test_set, epochs = 25)\n",
    "history=Model.fit(x = training_set, validation_data = test_set, epochs = 25)"
   ]
  },
  {
   "cell_type": "markdown",
   "id": "78b35c1f",
   "metadata": {},
   "source": [
    "### Plot the validation loss function"
   ]
  },
  {
   "cell_type": "code",
   "execution_count": 15,
   "id": "7f57ca07",
   "metadata": {
    "scrolled": true
   },
   "outputs": [
    {
     "data": {
      "image/png": "[encoded data removed]",
      "text/plain": [
       "<Figure size 432x288 with 1 Axes>"
      ]
     },
     "metadata": {
      "needs_background": "light"
     },
     "output_type": "display_data"
    },
    {
     "data": {
      "image/png": "[encoded data removed]",
      "text/plain": [
       "<Figure size 432x288 with 1 Axes>"
      ]
     },
     "metadata": {
      "needs_background": "light"
     },
     "output_type": "display_data"
    }
   ],
   "source": [
    "import matplotlib.pyplot as plt\n",
    "\n",
    "# summarize history for accuracy\n",
    "plt.plot(history.history['accuracy'])\n",
    "plt.plot(history.history['val_accuracy'])\n",
    "plt.title('model accuracy')\n",
    "plt.ylabel('accuracy')\n",
    "plt.xlabel('epoch')\n",
    "plt.legend(['Train', 'Validation'], loc='upper left')\n",
    "plt.show()\n",
    "# summarize history for loss\n",
    "plt.plot(history.history['loss'])\n",
    "plt.plot(history.history['val_loss'])\n",
    "plt.title('model loss')\n",
    "plt.ylabel('loss')\n",
    "plt.xlabel('epoch')\n",
    "plt.legend(['Train', 'Validation'], loc='upper left')\n",
    "plt.show()"
   ]
  },
  {
   "cell_type": "markdown",
   "id": "b71f7c2d",
   "metadata": {},
   "source": [
    "Loss function measures how well (or bad) our model is doing. For training set, the loss is around 0.0751; and for test set, the loss is around 2.9547. This means that training model performs well while the test model does not do a good job."
   ]
  },
  {
   "cell_type": "markdown",
   "id": "24046515",
   "metadata": {},
   "source": [
    "### Plot the validation accuracy function"
   ]
  },
  {
   "cell_type": "markdown",
   "id": "668a9008",
   "metadata": {},
   "source": [
    "# Making Prediction"
   ]
  },
  {
   "cell_type": "markdown",
   "id": "fe5303b2",
   "metadata": {},
   "source": [
    "To know if the CNN model can accurately predict my personality, I took a few images of my shoes. In the unknown folder, there is images of my pink boots, black sneaker, and white Vans. "
   ]
  },
  {
   "cell_type": "code",
   "execution_count": 22,
   "id": "85a1cba8",
   "metadata": {},
   "outputs": [
    {
     "name": "stdout",
     "output_type": "stream",
     "text": [
      "1/1 [==============================] - 0s 19ms/step\n",
      "1/1 [==============================] - 0s 21ms/step\n",
      "blackSneaker.jpg = Flats-behind-the-scenes leader\n",
      "1/1 [==============================] - 0s 18ms/step\n",
      "1/1 [==============================] - 0s 20ms/step\n",
      "PinkBoots.jfif = Flats-behind-the-scenes leader\n",
      "1/1 [==============================] - 0s 18ms/step\n",
      "1/1 [==============================] - 0s 17ms/step\n",
      "vans-off-white-og-authentic-lx-sneakers.jpg = FlipFlops-laid back\n"
     ]
    }
   ],
   "source": [
    "import numpy as np\n",
    "import os\n",
    "from keras.preprocessing import image\n",
    "import keras.utils\n",
    "result =[]\n",
    "path = 'Unknown'\n",
    "for img in os.listdir(path):\n",
    "    test_image = keras.utils.load_img(path+\"/\"+img, target_size = (64, 64))\n",
    "    test_image = keras.utils.img_to_array(test_image)\n",
    "    test_image = np.expand_dims(test_image, axis = 0)\n",
    "    result.append(Model.predict(test_image))\n",
    "    predict = Model.predict(test_image)\n",
    "    #print (result[i][0][0])\n",
    "    if predict[0][0] == 1:\n",
    "        prediction = 'Boots- always looking ahead'\n",
    "    elif predict[0][1] == 1:\n",
    "        prediction = 'FlashyStilettos-you are hard working and have excellent taste'\n",
    "    elif predict[0][2] == 1:\n",
    "        prediction = 'Flats-behind-the-scenes leader'\n",
    "    elif predict[0][3] == 1:\n",
    "        prediction = 'FlipFlops-laid back'\n",
    "    elif predict[0][4] == 1:\n",
    "        prediction = 'Sneakers-you get along with everyone'\n",
    "    print(img + \" = \"+ prediction)\n",
    "    # in alphabetical order"
   ]
  },
  {
   "cell_type": "markdown",
   "id": "97631a3e",
   "metadata": {},
   "source": [
    "Unfortunately, my model predicts all three all wrong."
   ]
  },
  {
   "cell_type": "markdown",
   "id": "b9206378",
   "metadata": {},
   "source": [
    "## Model Accuracy"
   ]
  },
  {
   "cell_type": "code",
   "execution_count": 23,
   "id": "1b575d84",
   "metadata": {},
   "outputs": [
    {
     "name": "stdout",
     "output_type": "stream",
     "text": [
      " 9/35 [======>.......................] - ETA: 10s - loss: 0.0479 - accuracy: 0.9896"
     ]
    },
    {
     "name": "stderr",
     "output_type": "stream",
     "text": [
      "C:\\Users\\muyan\\anaconda3\\lib\\site-packages\\PIL\\Image.py:945: UserWarning: Palette images with Transparency expressed in bytes should be converted to RGBA images\n",
      "  warnings.warn(\n"
     ]
    },
    {
     "name": "stdout",
     "output_type": "stream",
     "text": [
      "35/35 [==============================] - 15s 419ms/step - loss: 0.0608 - accuracy: 0.9820\n"
     ]
    },
    {
     "data": {
      "text/plain": [
       "[0.060818400233983994, 0.9820305705070496]"
      ]
     },
     "execution_count": 23,
     "metadata": {},
     "output_type": "execute_result"
    }
   ],
   "source": [
    "Model.evaluate(training_set)"
   ]
  },
  {
   "cell_type": "code",
   "execution_count": 24,
   "id": "ae3d2644",
   "metadata": {},
   "outputs": [
    {
     "name": "stdout",
     "output_type": "stream",
     "text": [
      "10/10 [==============================] - 0s 42ms/step - loss: 1.8537 - accuracy: 0.6000\n"
     ]
    },
    {
     "data": {
      "text/plain": [
       "[1.8536640405654907, 0.6000000238418579]"
      ]
     },
     "execution_count": 24,
     "metadata": {},
     "output_type": "execute_result"
    }
   ],
   "source": [
    "Model.evaluate(test_set)"
   ]
  },
  {
   "cell_type": "markdown",
   "id": "70d7da66",
   "metadata": {},
   "source": [
    "# Discussion"
   ]
  },
  {
   "cell_type": "markdown",
   "id": "98042401",
   "metadata": {},
   "source": [
    "## Model 1: 32 filters"
   ]
  },
  {
   "cell_type": "markdown",
   "id": "150160a5",
   "metadata": {},
   "source": [
    "Model 1 is built with 32 filters. Based on the accuracy evaluation, the training loss is 0.039 and the validation loss is 2.41; the training accuracy is 0.99 and the validation accuracy is 0.65. The validation loss is higher than the training loss, and the validation accuracy is lower than the traininng accuracy. "
   ]
  },
  {
   "cell_type": "markdown",
   "id": "d7817ab1",
   "metadata": {},
   "source": [
    "## Model 2: 10 filters"
   ]
  },
  {
   "cell_type": "markdown",
   "id": "d5f42e07",
   "metadata": {},
   "source": [
    "Model 2 is built with 10 filters. Based on the accuracy evaluation, the training loss is 0.06 and the validation loss is 1.85; the training accuracy is 0.98 and the training validation is 0.60. </br>\n",
    "\n",
    "It is noticeable that model 2 has higher training loss but lower validation loss, and both training and validation accuraies for model 1 and model 2 are about the same."
   ]
  },
  {
   "cell_type": "markdown",
   "id": "d8ab0335",
   "metadata": {},
   "source": [
    "For both model 1 and model 2, the loss is smaller than accuracy, meaning that low errors on a few data. This is ideal."
   ]
  },
  {
   "cell_type": "markdown",
   "id": "79e49dac",
   "metadata": {},
   "source": [
    "*\n",
    "Loss can be seen as a distance between the true values of the problem and the values predicted by the model. Greater the loss is, more huge is the errors made on the data."
   ]
  },
  {
   "cell_type": "markdown",
   "id": "dbd7cfd9",
   "metadata": {},
   "source": [
    "*\n",
    "Accuracy can be seen as the number of error made on the data"
   ]
  }
 ],
 "metadata": {
  "kernelspec": {
   "display_name": "Python 3 (ipykernel)",
   "language": "python",
   "name": "python3"
  },
  "language_info": {
   "codemirror_mode": {
    "name": "ipython",
    "version": 3
   },
   "file_extension": ".py",
   "mimetype": "text/x-python",
   "name": "python",
   "nbconvert_exporter": "python",
   "pygments_lexer": "ipython3",
   "version": "3.9.15"
  },
  "toc": {
   "base_numbering": 1,
   "nav_menu": {},
   "number_sections": true,
   "sideBar": true,
   "skip_h1_title": false,
   "title_cell": "Table of Contents",
   "title_sidebar": "Contents",
   "toc_cell": false,
   "toc_position": {},
   "toc_section_display": true,
   "toc_window_display": false
  }
 },
 "nbformat": 4,
 "nbformat_minor": 5
}
